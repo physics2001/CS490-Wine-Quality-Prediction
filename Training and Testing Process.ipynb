{
 "cells": [
  {
   "cell_type": "markdown",
   "id": "ced65fbd",
   "metadata": {},
   "source": [
    "# Import Required Packages"
   ]
  },
  {
   "cell_type": "code",
   "execution_count": 1,
   "id": "622318b7",
   "metadata": {},
   "outputs": [],
   "source": [
    "# Import packages\n",
    "import numpy as np\n",
    "import pandas as pd\n",
    "import warnings\n",
    "import joblib\n",
    "from time import time\n",
    "from sklearn.preprocessing import MinMaxScaler\n",
    "from sklearn.model_selection import train_test_split, cross_val_score, GridSearchCV\n",
    "from sklearn.linear_model import LinearRegression\n",
    "from sklearn.neural_network import MLPRegressor\n",
    "from sklearn.metrics import mean_squared_error, r2_score, mean_absolute_error, SCORERS\n",
    "\n",
    "warnings.filterwarnings('ignore', category=FutureWarning)\n",
    "warnings.filterwarnings('ignore', category=DeprecationWarning)"
   ]
  },
  {
   "cell_type": "markdown",
   "id": "5676caec",
   "metadata": {},
   "source": [
    "# Data Preprocessing"
   ]
  },
  {
   "cell_type": "markdown",
   "id": "1e6d3232",
   "metadata": {},
   "source": [
    "## Load wine data"
   ]
  },
  {
   "cell_type": "code",
   "execution_count": 2,
   "id": "5f74816b",
   "metadata": {},
   "outputs": [
    {
     "name": "stdout",
     "output_type": "stream",
     "text": [
      "   fixed acidity  volatile acidity  citric acid  residual sugar  chlorides  \\\n",
      "0            8.5              0.26         0.21            16.2      0.074   \n",
      "1            5.8              0.24         0.44             3.5      0.029   \n",
      "2            9.1              0.59         0.38             1.6      0.066   \n",
      "3            7.1              0.32         0.32            11.0      0.038   \n",
      "4            6.9              0.39         0.40             4.6      0.022   \n",
      "\n",
      "   free sulfur dioxide  total sulfur dioxide  density    pH  sulphates  \\\n",
      "0                 41.0                 197.0   0.9980  3.02       0.50   \n",
      "1                  5.0                 109.0   0.9913  3.53       0.43   \n",
      "2                 34.0                 182.0   0.9968  3.23       0.38   \n",
      "3                 16.0                  66.0   0.9937  3.24       0.40   \n",
      "4                  5.0                  19.0   0.9915  3.31       0.37   \n",
      "\n",
      "   alcohol  quality  \n",
      "0      9.8        3  \n",
      "1     11.7        3  \n",
      "2      8.5        3  \n",
      "3     11.5        3  \n",
      "4     12.6        3  \n"
     ]
    }
   ],
   "source": [
    "# Load data\n",
    "wine_data = pd.read_csv(\"white_wine_quality.csv\")\n",
    "print(wine_data.head())"
   ]
  },
  {
   "cell_type": "markdown",
   "id": "dd31eadf",
   "metadata": {},
   "source": [
    "## Scale data to between 0 and 1"
   ]
  },
  {
   "cell_type": "code",
   "execution_count": 3,
   "id": "ed288b6f",
   "metadata": {},
   "outputs": [
    {
     "name": "stdout",
     "output_type": "stream",
     "text": [
      "   fixed acidity  volatile acidity  citric acid  residual sugar  chlorides  \\\n",
      "0       0.451923          0.176471     0.126506        0.239264   0.192878   \n",
      "1       0.192308          0.156863     0.265060        0.044479   0.059347   \n",
      "2       0.509615          0.500000     0.228916        0.015337   0.169139   \n",
      "3       0.317308          0.235294     0.192771        0.159509   0.086053   \n",
      "4       0.298077          0.303922     0.240964        0.061350   0.038576   \n",
      "\n",
      "   free sulfur dioxide  total sulfur dioxide   density        pH  sulphates  \\\n",
      "0             0.135889              0.436195  0.209948  0.272727   0.325581   \n",
      "1             0.010453              0.232019  0.080779  0.736364   0.244186   \n",
      "2             0.111498              0.401392  0.186813  0.463636   0.186047   \n",
      "3             0.048780              0.132251  0.127048  0.472727   0.209302   \n",
      "4             0.010453              0.023202  0.084635  0.536364   0.174419   \n",
      "\n",
      "    alcohol  quality  \n",
      "0  0.290323      0.0  \n",
      "1  0.596774      0.0  \n",
      "2  0.080645      0.0  \n",
      "3  0.564516      0.0  \n",
      "4  0.741935      0.0  \n"
     ]
    }
   ],
   "source": [
    "# Scale data with min-max scaler for each column in X\n",
    "scaler = MinMaxScaler()\n",
    "wine_data_scaled = scaler.fit_transform(wine_data)\n",
    "wine_data_scaled = pd.DataFrame(wine_data_scaled, columns=wine_data.columns.values)\n",
    "print(wine_data_scaled.head())"
   ]
  },
  {
   "cell_type": "markdown",
   "id": "2c31a9c2",
   "metadata": {},
   "source": [
    "## Split data into features and labels, and then training and testing data, then store them"
   ]
  },
  {
   "cell_type": "code",
   "execution_count": 4,
   "id": "b0ee94e1",
   "metadata": {},
   "outputs": [],
   "source": [
    "features = wine_data_scaled.drop('quality', axis=1)\n",
    "labels = wine_data_scaled['quality']\n",
    "\n",
    "# Split data to train and test\n",
    "X_train, X_test, y_train, y_test = train_test_split(features, labels,\n",
    "                                                    stratify=labels, \n",
    "                                                    test_size=0.2, random_state=490)\n",
    "\n",
    "X_train.to_csv('train_features.csv', index=False)\n",
    "X_test.to_csv('test_features.csv', index=False)\n",
    "\n",
    "y_train.to_csv('train_labels.csv', index=False)\n",
    "y_test.to_csv('test_labels.csv', index=False)"
   ]
  },
  {
   "cell_type": "markdown",
   "id": "5cdd2cd3",
   "metadata": {},
   "source": [
    "# Training Linear Regression Model"
   ]
  },
  {
   "cell_type": "code",
   "execution_count": 5,
   "id": "094a6fc2",
   "metadata": {},
   "outputs": [
    {
     "name": "stdout",
     "output_type": "stream",
     "text": [
      "   fixed acidity  volatile acidity  citric acid  residual sugar  chlorides  \\\n",
      "0       0.375000          0.196078     0.210843        0.225460   0.139466   \n",
      "1       0.269231          0.254902     0.150602        0.064417   0.086053   \n",
      "2       0.221154          0.068627     0.240964        0.009202   0.062315   \n",
      "3       0.115385          0.117647     0.240964        0.019939   0.017804   \n",
      "4       0.403846          0.117647     0.240964        0.070552   0.136499   \n",
      "\n",
      "   free sulfur dioxide  total sulfur dioxide   density        pH  sulphates  \\\n",
      "0             0.101045              0.250580  0.244650  0.500000   0.325581   \n",
      "1             0.048780              0.259861  0.093889  0.581818   0.569767   \n",
      "2             0.059233              0.174014  0.041450  0.427273   0.860465   \n",
      "3             0.062718              0.206497  0.049933  0.590909   0.383721   \n",
      "4             0.135889              0.366589  0.157895  0.418182   0.209302   \n",
      "\n",
      "    alcohol  \n",
      "0  0.258065  \n",
      "1  0.741935  \n",
      "2  0.806452  \n",
      "3  0.653226  \n",
      "4  0.419355  \n",
      "    quality\n",
      "0  0.333333\n",
      "1  0.500000\n",
      "2  0.500000\n",
      "3  0.500000\n",
      "4  0.666667\n",
      "[-0.01422583 -0.01425894 -0.01775812 -0.01405812 -0.01740373]\n",
      "[0.01422583 0.01425894 0.01775812 0.01405812 0.01740373]\n",
      "[0.11927209 0.1194108  0.1332596  0.11856693 0.13192319]\n",
      "0.1244865214611836\n",
      "Coefficients: \n",
      " [[ 0.19798439 -0.30033136  0.02858547  1.15013548  0.00619483  0.212569\n",
      "  -0.02747836 -1.91462568  0.16737824  0.10831948  0.11285142]]\n",
      "Mean squared error: 0.02\n",
      "Coefficient of determination: 0.29\n",
      "mean absolute error: 0.10\n"
     ]
    },
    {
     "data": {
      "text/plain": [
       "['./LR.pkl']"
      ]
     },
     "execution_count": 5,
     "metadata": {},
     "output_type": "execute_result"
    }
   ],
   "source": [
    "tr_features = pd.read_csv('train_features.csv')\n",
    "tr_labels = pd.read_csv('train_labels.csv')\n",
    "\n",
    "print(tr_features.head())\n",
    "print(tr_labels.head())\n",
    "\n",
    "lr = LinearRegression()\n",
    "\n",
    "mdl = lr.fit(tr_features, tr_labels)\n",
    "\n",
    "scores = cross_val_score(lr, tr_features, tr_labels, cv=5, scoring='neg_mean_squared_error')\n",
    "print(scores)\n",
    "\n",
    "mse_scores = -scores\n",
    "print(mse_scores)\n",
    "\n",
    "rmse_scores = np.sqrt(mse_scores)\n",
    "print(rmse_scores)\n",
    "\n",
    "print(rmse_scores.mean())\n",
    "\n",
    "def print_regression_results(mdl):\n",
    "    print('Coefficients: \\n', mdl.coef_)\n",
    "\n",
    "    pred_labels =  mdl.predict(tr_features)\n",
    "    print('Mean squared error: %.2f'\n",
    "          % mean_squared_error(tr_labels, pred_labels))\n",
    "\n",
    "    print('Coefficient of determination: %.2f'\n",
    "          % r2_score(tr_labels, pred_labels))\n",
    "    \n",
    "    print('mean absolute error: %.2f'\n",
    "          % mean_absolute_error(tr_labels, pred_labels))\n",
    "\n",
    "# Print regression results\n",
    "print_regression_results(mdl)\n",
    "\n",
    "# Store regression model\n",
    "joblib.dump(mdl, './LR.pkl')"
   ]
  },
  {
   "cell_type": "markdown",
   "id": "396d804a",
   "metadata": {},
   "source": [
    "# Training Neural Network Model"
   ]
  },
  {
   "cell_type": "markdown",
   "id": "8aff2d2f",
   "metadata": {},
   "source": [
    "## 5-fold cross validation"
   ]
  },
  {
   "cell_type": "code",
   "execution_count": 6,
   "id": "a072da82",
   "metadata": {},
   "outputs": [
    {
     "name": "stdout",
     "output_type": "stream",
     "text": [
      "Best Hyperparams: {'activation': 'relu', 'hidden_layer_sizes': (200, 200, 200), 'learning_rate': 'constant'}\n",
      "\n",
      "mse: 0.013779 / for {'activation': 'relu', 'hidden_layer_sizes': (400, 400, 400), 'learning_rate': 'constant'}\n",
      "mse: 0.013693 / for {'activation': 'relu', 'hidden_layer_sizes': (200, 200, 200), 'learning_rate': 'constant'}\n"
     ]
    },
    {
     "data": {
      "text/plain": [
       "['./MLP.pkl']"
      ]
     },
     "execution_count": 6,
     "metadata": {},
     "output_type": "execute_result"
    }
   ],
   "source": [
    "tr_features = pd.read_csv('train_features.csv')\n",
    "tr_labels = pd.read_csv('train_labels.csv')\n",
    "\n",
    "def print_results(results):\n",
    "    print('Best Hyperparams: {}\\n'.format(results.best_params_))\n",
    "\n",
    "    score = -results.cv_results_['mean_test_score']\n",
    "    for mse, params in zip(score, results.cv_results_['params']):\n",
    "        print('mse: {} / for {}'.format(round(mse, 6), params))\n",
    "\n",
    "\n",
    "mlp = MLPRegressor(max_iter=5000)\n",
    "\n",
    "parameters = {\n",
    "    'hidden_layer_sizes': [(400,400,400), (200,200,200)],\n",
    "    'activation': ['relu'],\n",
    "    'learning_rate': ['constant']\n",
    "}\n",
    "\n",
    "cv = GridSearchCV(mlp, parameters, cv=5, scoring='neg_mean_squared_error')\n",
    "cv.fit(tr_features, tr_labels.values.ravel())\n",
    "print_results(cv)\n",
    "\n",
    "joblib.dump(cv.best_estimator_, './MLP.pkl')"
   ]
  },
  {
   "cell_type": "markdown",
   "id": "c56a9c57",
   "metadata": {},
   "source": [
    "## Train final neural network model on all training data with best hyper parameter"
   ]
  },
  {
   "cell_type": "code",
   "execution_count": 7,
   "id": "1f5f95d4",
   "metadata": {},
   "outputs": [
    {
     "data": {
      "text/plain": [
       "['./MLP.pkl']"
      ]
     },
     "execution_count": 7,
     "metadata": {},
     "output_type": "execute_result"
    }
   ],
   "source": [
    "mlp = MLPRegressor(max_iter=5000, hidden_layer_sizes=(400,400,400), activation='relu', learning_rate='constant')\n",
    "\n",
    "nn_model = mlp.fit(tr_features, tr_labels.values.ravel())\n",
    "\n",
    "joblib.dump(nn_model, './MLP.pkl')"
   ]
  },
  {
   "cell_type": "markdown",
   "id": "ea576737",
   "metadata": {},
   "source": [
    "# Evaluation of Two models on the testing data"
   ]
  },
  {
   "cell_type": "code",
   "execution_count": 8,
   "id": "7596dc48",
   "metadata": {
    "scrolled": true
   },
   "outputs": [
    {
     "name": "stdout",
     "output_type": "stream",
     "text": [
      "LinearRegression()\n",
      "LR -- rmse: 0.129502 / r2: 0.230897 / mae: 0.099754 / Latency: 0.001ms\n",
      "MLPRegressor(hidden_layer_sizes=(400, 400, 400), max_iter=5000)\n",
      "MLP -- rmse: 0.115362 / r2: 0.38968 / mae: 0.089045 / Latency: 0.01596ms\n"
     ]
    }
   ],
   "source": [
    "test_features = pd.read_csv('./test_features.csv')\n",
    "test_labels = pd.read_csv('./test_labels.csv')\n",
    "\n",
    "models = {}\n",
    "\n",
    "for mdl in ['LR', 'MLP']:\n",
    "    models[mdl] = joblib.load('./{}.pkl'.format(mdl))\n",
    "\n",
    "\n",
    "def evaluate_model(name, model, features, labels):\n",
    "    start = time()\n",
    "    pred = model.predict(features)\n",
    "    end = time()\n",
    "    rmse = round(np.sqrt(mean_squared_error(labels, pred)), 6)\n",
    "    r2 = round(r2_score(labels, pred), 6)\n",
    "    mae = round(mean_absolute_error(labels, pred), 6)\n",
    "    print('{} -- rmse: {} / r2: {} / mae: {} / Latency: {}ms'.format(name, rmse, r2, mae, round((end - start), 5)))\n",
    "\n",
    "\n",
    "for name, mdl in models.items():\n",
    "    print(mdl)\n",
    "    evaluate_model(name, mdl, test_features, test_labels)\n"
   ]
  },
  {
   "cell_type": "markdown",
   "id": "1346b653",
   "metadata": {},
   "source": [
    "# Using the model"
   ]
  },
  {
   "cell_type": "code",
   "execution_count": 9,
   "id": "ef83a849",
   "metadata": {},
   "outputs": [
    {
     "name": "stdout",
     "output_type": "stream",
     "text": [
      "[-0.08734992]\n",
      "2.0\n"
     ]
    }
   ],
   "source": [
    "def predict_wine_quality(max_min_scaled_sample): \n",
    "    mdl = joblib.load('./MLP.pkl')\n",
    "    pred = mdl.predict(max_min_scaled_sample)\n",
    "    print(pred)\n",
    "    return round(pred[0] * 6 + 3, 0)\n",
    "\n",
    "max_min_scaled_sample = [[0.2, 0.4, 0.5, 0.7, 0.3, 0.2, 0.4, 0.2, 0.1, 0.9, 0.3]]\n",
    "print(predict_wine_quality(max_min_scaled_sample))"
   ]
  },
  {
   "cell_type": "code",
   "execution_count": null,
   "id": "4846efe0",
   "metadata": {},
   "outputs": [],
   "source": []
  }
 ],
 "metadata": {
  "kernelspec": {
   "display_name": "Python 3 (ipykernel)",
   "language": "python",
   "name": "python3"
  },
  "language_info": {
   "codemirror_mode": {
    "name": "ipython",
    "version": 3
   },
   "file_extension": ".py",
   "mimetype": "text/x-python",
   "name": "python",
   "nbconvert_exporter": "python",
   "pygments_lexer": "ipython3",
   "version": "3.9.7"
  }
 },
 "nbformat": 4,
 "nbformat_minor": 5
}
